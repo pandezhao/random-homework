{
 "cells": [
  {
   "cell_type": "code",
   "execution_count": 1,
   "metadata": {},
   "outputs": [],
   "source": [
    "from get_data import *\n",
    "import tensorflow as tf\n",
    "import numpy\n",
    "import random\n",
    "import time\n",
    "import matplotlib.pyplot as plt"
   ]
  },
  {
   "cell_type": "code",
   "execution_count": 2,
   "metadata": {},
   "outputs": [],
   "source": [
    "t=getdata()\n",
    "test=gettestdata()"
   ]
  },
  {
   "cell_type": "code",
   "execution_count": 3,
   "metadata": {},
   "outputs": [],
   "source": [
    "learning_rate = 0.001\n",
    "epochs = 200\n",
    "minibatch_size = 100\n",
    "costs = []\n",
    "\n",
    "Train_Accuracy=[]\n",
    "Test_Accuracy=[]\n",
    "Test_cost=[]\n",
    "Train_cost=[]\n",
    "General_cost=[]"
   ]
  },
  {
   "cell_type": "code",
   "execution_count": 4,
   "metadata": {},
   "outputs": [],
   "source": [
    "t=t[1:len(t)]\n",
    "test=test[1:len(test)]"
   ]
  },
  {
   "cell_type": "code",
   "execution_count": 5,
   "metadata": {},
   "outputs": [
    {
     "name": "stdout",
     "output_type": "stream",
     "text": [
      "2000\n",
      "400\n"
     ]
    }
   ],
   "source": [
    "length=len(t)\n",
    "print(length)\n",
    "print(len(test))"
   ]
  },
  {
   "cell_type": "code",
   "execution_count": 6,
   "metadata": {},
   "outputs": [],
   "source": [
    "random.shuffle(t)\n",
    "feature=np.zeros((length,14,4))\n",
    "y_true=np.zeros((length,1))\n",
    "X_test = []"
   ]
  },
  {
   "cell_type": "code",
   "execution_count": 7,
   "metadata": {},
   "outputs": [],
   "source": [
    "for i in range(length):\n",
    "    feature[i] = t[i]['features'].reshape(14,4)\n",
    "    y_true[i] = t[i]['label']\n",
    "    \n",
    "for i in range(len(test)):\n",
    "    X_test.append(test[i]['features'].reshape(14,4))\n",
    "X_test = np.array(X_test)"
   ]
  },
  {
   "cell_type": "code",
   "execution_count": 8,
   "metadata": {},
   "outputs": [
    {
     "name": "stdout",
     "output_type": "stream",
     "text": [
      "(2000, 14, 4)\n",
      "(2000, 1)\n",
      "<class 'numpy.ndarray'>\n",
      "<class 'numpy.ndarray'>\n",
      "the test is  (400, 14, 4) <class 'numpy.ndarray'>\n",
      "the shape of develop set is (200, 14, 4)\n",
      "(200, 1)\n",
      "the shape of training set is (2000, 14, 4)\n",
      "(2000, 1)\n"
     ]
    }
   ],
   "source": [
    "r = np.random.permutation(length)\n",
    "feature = feature[r,:,:]\n",
    "y_true = y_true[r,:]\n",
    "\n",
    "\n",
    "print(feature.shape)\n",
    "print(y_true.shape)\n",
    "print(type(feature))\n",
    "print(type(y_true))\n",
    "print(\"the test is \",X_test.shape,type(X_test))\n",
    "dev_set_size = 200\n",
    "\n",
    "dev_set = feature[length - dev_set_size:length,:,:]\n",
    "dev_set_y = y_true[length - dev_set_size:length,:]\n",
    "\n",
    "print(\"the shape of develop set is \" + str(dev_set.shape))\n",
    "print(dev_set_y.shape)\n",
    "\n",
    "feature=feature#[0:length - dev_set_size]\n",
    "y_true=y_true#[0:length - dev_set_size]\n",
    "\n",
    "print(\"the shape of training set is \" + str(feature.shape))\n",
    "print(y_true.shape)\n",
    "\n",
    "_Setsize,_DNA_length,_channel_number = feature.shape\n",
    "_Setsize,_labels = y_true.shape"
   ]
  },
  {
   "cell_type": "code",
   "execution_count": 9,
   "metadata": {},
   "outputs": [],
   "source": [
    "X = tf.placeholder(tf.float32,shape=[None,_DNA_length,_channel_number],name='trainingset')\n",
    "Y = tf.placeholder(tf.float32,shape=[None,_labels],name='labels')\n"
   ]
  },
  {
   "cell_type": "code",
   "execution_count": 10,
   "metadata": {},
   "outputs": [],
   "source": [
    "\n",
    "W1 = tf.get_variable(\"W1\", [1, 4, 4], initializer = tf.contrib.layers.xavier_initializer(seed = 0))\n",
    "W2 = tf.get_variable(\"W2\", [3, 4, 8], initializer = tf.contrib.layers.xavier_initializer(seed = 0))\n",
    "W3 = tf.get_variable(\"W3\", [5, 8, 16], initializer = tf.contrib.layers.xavier_initializer(seed = 0))\n",
    "W4 = tf.get_variable(\"W4\", [8, 16, 32], initializer = tf.contrib.layers.xavier_initializer(seed = 0))\n",
    "\n"
   ]
  },
  {
   "cell_type": "code",
   "execution_count": 11,
   "metadata": {},
   "outputs": [
    {
     "name": "stdout",
     "output_type": "stream",
     "text": [
      "Z1 is  Tensor(\"conv1d/Squeeze:0\", shape=(?, 14, 4), dtype=float32)\n",
      "Z2 is  Tensor(\"conv1d_1/Squeeze:0\", shape=(?, 12, 8), dtype=float32)\n",
      "A3 is  Tensor(\"Relu_2:0\", shape=(?, 8, 16), dtype=float32)\n",
      "A4 is  Tensor(\"Relu_3:0\", shape=(?, 1, 32), dtype=float32)\n",
      "A4 is  Tensor(\"Flatten/flatten/Reshape:0\", shape=(?, 32), dtype=float32)\n",
      "A4_fc is  Tensor(\"fully_connected/BiasAdd:0\", shape=(?, 1), dtype=float32)\n",
      "Y is  Tensor(\"labels:0\", shape=(?, 1), dtype=float32)\n"
     ]
    }
   ],
   "source": [
    "Z1 = tf.nn.conv1d(X, W1, 1,padding='SAME')\n",
    "print('Z1 is ',Z1)\n",
    "A1 = tf.nn.relu(Z1)\n",
    "#P1 = tf.layers.max_pooling1d(A1,2,2)\n",
    "#print('P1 is ',P1)\n",
    "Z2 = tf.nn.conv1d(A1, W2, 1,padding='VALID')\n",
    "print('Z2 is ',Z2)\n",
    "A2 = tf.nn.relu(Z2)\n",
    "#P2 = tf.layers.max_pooling1d(A2,7,1)\n",
    "Z3 = tf.nn.conv1d(A2, W3, 1,padding='VALID')\n",
    "A3 = tf.nn.relu(Z3)\n",
    "print('A3 is ',A3)\n",
    "\n",
    "Z4 = tf.nn.conv1d(A3, W4, 1,padding='VALID')\n",
    "A4 = tf.nn.relu(Z4)\n",
    "print('A4 is ',A4)\n",
    "\n",
    "\n",
    "A4 = tf.contrib.layers.flatten(A4)\n",
    "print('A4 is ',A4)\n",
    "output = tf.contrib.layers.fully_connected(A4, num_outputs=1, activation_fn=None)\n",
    "print('A4_fc is ',output)\n",
    "print('Y is ',Y)\n",
    "#cost =tf.reduce_mean(tf.nn.softmax_cross_entropy_with_logits_v2(logits = Z2_fc,labels = Y))\n",
    "cost = tf.reduce_mean(tf.nn.sigmoid_cross_entropy_with_logits(labels= Y,logits=output))\n"
   ]
  },
  {
   "cell_type": "code",
   "execution_count": 12,
   "metadata": {},
   "outputs": [],
   "source": [
    "optimizer = tf.train.AdamOptimizer(learning_rate = learning_rate).minimize(cost)"
   ]
  },
  {
   "cell_type": "code",
   "execution_count": 13,
   "metadata": {},
   "outputs": [
    {
     "name": "stdout",
     "output_type": "stream",
     "text": [
      "Cost after epoch 0: 0.346035\n",
      "Cost after epoch 10: 0.209481\n",
      "Cost after epoch 20: 0.177060\n",
      "Cost after epoch 30: 0.166135\n",
      "Cost after epoch 40: 0.160218\n",
      "Cost after epoch 50: 0.156826\n",
      "Cost after epoch 60: 0.154731\n",
      "Cost after epoch 70: 0.153043\n",
      "Cost after epoch 80: 0.151706\n",
      "Cost after epoch 90: 0.150426\n",
      "Cost after epoch 100: 0.149294\n",
      "Cost after epoch 110: 0.148156\n",
      "Cost after epoch 120: 0.147037\n",
      "Cost after epoch 130: 0.145979\n",
      "Cost after epoch 140: 0.144847\n",
      "Cost after epoch 150: 0.143754\n",
      "Cost after epoch 160: 0.142747\n",
      "Cost after epoch 170: 0.141742\n",
      "Cost after epoch 180: 0.140685\n",
      "Cost after epoch 190: 0.139489\n"
     ]
    },
    {
     "data": {
      "image/png": "[encoded data removed]",
      "text/plain": [
       "<matplotlib.figure.Figure at 0x7f3a8819b940>"
      ]
     },
     "metadata": {},
     "output_type": "display_data"
    },
    {
     "data": {
      "image/png": "[encoded data removed]",
      "text/plain": [
       "<matplotlib.figure.Figure at 0x7f3a88100f60>"
      ]
     },
     "metadata": {},
     "output_type": "display_data"
    },
    {
     "data": {
      "image/png": "[encoded data removed]",
      "text/plain": [
       "<matplotlib.figure.Figure at 0x7f3a880513c8>"
      ]
     },
     "metadata": {},
     "output_type": "display_data"
    },
    {
     "data": {
      "image/png": "[encoded data removed]",
      "text/plain": [
       "<matplotlib.figure.Figure at 0x7f3a68bcdcf8>"
      ]
     },
     "metadata": {},
     "output_type": "display_data"
    },
    {
     "name": "stdout",
     "output_type": "stream",
     "text": [
      "Tensor(\"fully_connected/BiasAdd:0\", shape=(?, 1), dtype=float32)\n",
      "Tensor(\"GreaterEqual_200:0\", shape=(?, 1), dtype=bool)\n",
      "Tensor(\"Mean_201:0\", shape=(), dtype=float32)\n",
      "Train Accuracy: 0.888\n",
      "Test Accuracy: 0.835\n"
     ]
    }
   ],
   "source": [
    "init = tf.global_variables_initializer()\n",
    "with tf.Session() as sess:\n",
    "    sess.run(init)\n",
    "    seed = 0\n",
    "    for epoch in range(epochs):\n",
    "        minibatch_cost = 0.\n",
    "        num_minibatches = int(_Setsize/minibatch_size)\n",
    "        seed = seed + 1\n",
    "        minibatches = random_mini_batches(feature, y_true, mini_batch_size = 200, seed = seed)\n",
    "        \n",
    "        for minibatch in minibatches:\n",
    "            (minibatch_X, minibatch_Y) = minibatch\n",
    "            _ , temp_cost = sess.run([optimizer,cost],feed_dict={X:minibatch_X,Y:minibatch_Y})\n",
    "            minibatch_cost += temp_cost / num_minibatches\n",
    "        if epoch % 1 == 0:\n",
    "            costs.append(minibatch_cost)\n",
    "            \n",
    "            prediction_tmp = tf.sigmoid(output)\n",
    "            prediction_tmp = (prediction_tmp>=0.5)\n",
    "            prediction_tmp = tf.cast(prediction_tmp,\"float\")\n",
    "            correct_prediction = tf.equal(prediction_tmp, Y)\n",
    "            accuracy = tf.reduce_mean(tf.cast(correct_prediction, \"float\"))\n",
    "            train_accuracy = accuracy.eval({X: feature, Y: y_true})\n",
    "            test_accuracy = accuracy.eval({X: dev_set, Y: dev_set_y})\n",
    "            test_cost = sess.run(cost,feed_dict={X:dev_set,Y:dev_set_y})\n",
    "            Test_cost.append(test_cost)\n",
    "            train_cost = sess.run(cost,feed_dict={X:feature,Y:y_true})\n",
    "            Train_cost.append(train_cost)\n",
    "            General_cost.append(test_cost + train_cost)\n",
    "            Train_Accuracy.append(train_accuracy)\n",
    "            Test_Accuracy.append(test_accuracy)\n",
    "            \n",
    "        if epoch % 10 == 0:\n",
    "            print(\"Cost after epoch %i: %f\" % (epoch, minibatch_cost))\n",
    "            \n",
    "            #prediction_tmp=tf.sigmoid(output)\n",
    "            #prediction_tmp = (prediction_tmp>=0.5)\n",
    "            #prediction_tmp = tf.cast(prediction_tmp,\"float\")\n",
    "            #correct_prediction = tf.equal(prediction_tmp, Y)\n",
    "            #accuracy = tf.reduce_mean(tf.cast(correct_prediction, \"float\"))\n",
    "            #train_accuracy = accuracy.eval({X: feature, Y: y_true})\n",
    "            #test_accuracy = accuracy.eval({X: dev_set, Y: dev_set_y})\n",
    "            #test_cost = sess.run(cost,feed_dict={X:dev_set,Y:dev_set_y})\n",
    "            #Test_cost.append(test_cost)\n",
    "            #Train_Accuracy.append(train_accuracy)\n",
    "            #Test_Accuracy.append(test_accuracy)\n",
    "            \n",
    "            \n",
    "            \n",
    "    plt.plot(np.squeeze(Train_cost))\n",
    "    plt.ylabel('train cost')\n",
    "    plt.xlabel('number of epochs')\n",
    "    plt.title(\"Learning curve when learning rate = \"+str(learning_rate))\n",
    "    plt.show()\n",
    "    ## 下面是作圖專用\n",
    "    plt.plot(np.squeeze(Test_cost))\n",
    "    plt.ylabel('test cost')\n",
    "    plt.xlabel('number of epochs')\n",
    "    plt.title(\"Accuracy changes for learning rate = \"+str(learning_rate))\n",
    "    plt.show()\n",
    "    ##\n",
    "    plt.plot(np.squeeze(General_cost))\n",
    "    plt.ylabel('general cost')\n",
    "    plt.xlabel('number of epochs')\n",
    "    plt.title(\"Accuracy changes for learning rate = \"+str(learning_rate))\n",
    "    plt.show()\n",
    "    ##\n",
    "    plt.plot(np.squeeze(Train_Accuracy))\n",
    "    plt.plot(np.squeeze(Test_Accuracy))\n",
    "    plt.ylabel('Accuracy')\n",
    "    plt.xlabel('number of epochs')\n",
    "    plt.title(\"Accuracy changes for learning rate = \"+str(learning_rate))\n",
    "    plt.show()\n",
    "    ##\n",
    "    print(output)\n",
    "    predict_op = tf.sigmoid(output)\n",
    "    predict_op = (predict_op>=0.5)\n",
    "    print(predict_op)\n",
    "    predict_op = tf.cast(predict_op,\"float\")\n",
    "    correct_prediction = tf.equal(predict_op,Y)\n",
    "    correct_prediction = tf.cast(correct_prediction,\"float\")\n",
    "    accuracy = tf.reduce_mean(correct_prediction)\n",
    "    print(accuracy)\n",
    "    train_accuracy = accuracy.eval({X: feature, Y: y_true})\n",
    "    test_accuracy = accuracy.eval({X: dev_set, Y: dev_set_y})\n",
    "    print(\"Train Accuracy:\", train_accuracy)\n",
    "    print(\"Test Accuracy:\", test_accuracy) \n",
    "    a=sess.run(tf.sigmoid(output),feed_dict={X:feature})\n",
    "    predict_feature = np.array((a >= 0.5),dtype=\"int\")\n",
    "    \n",
    "    \n",
    "    y=sess.run(tf.sigmoid(output),feed_dict={X:X_test})\n",
    "    predict_test = np.array((y >= 0.5),dtype=\"int\")\n",
    "    #print(predict_test)\n",
    "    "
   ]
  },
  {
   "cell_type": "code",
   "execution_count": 14,
   "metadata": {},
   "outputs": [
    {
     "name": "stdout",
     "output_type": "stream",
     "text": [
      "2000\n",
      "2000\n"
     ]
    }
   ],
   "source": [
    "print(len(a))\n",
    "print(len(predict_feature))"
   ]
  },
  {
   "cell_type": "code",
   "execution_count": 16,
   "metadata": {},
   "outputs": [],
   "source": [
    "csvfile = open('prediction.csv','a',newline='')\n",
    "output = csv.writer(csvfile)\n",
    "output.writerow(['id','prediction'])\n",
    "for i in range(len(predict_test)):\n",
    "    tmp=[i,int(predict_test[i])]\n",
    "    output.writerow(tmp)"
   ]
  },
  {
   "cell_type": "code",
   "execution_count": null,
   "metadata": {},
   "outputs": [],
   "source": []
  },
  {
   "cell_type": "code",
   "execution_count": 16,
   "metadata": {},
   "outputs": [
    {
     "name": "stdout",
     "output_type": "stream",
     "text": [
      "[[1.]\n",
      " [0.]\n",
      " [0.]\n",
      " [1.]\n",
      " [1.]\n",
      " [0.]\n",
      " [0.]\n",
      " [1.]\n",
      " [1.]\n",
      " [1.]\n",
      " [1.]\n",
      " [0.]\n",
      " [1.]\n",
      " [0.]\n",
      " [0.]\n",
      " [1.]\n",
      " [0.]\n",
      " [1.]\n",
      " [1.]\n",
      " [0.]\n",
      " [1.]\n",
      " [1.]\n",
      " [0.]\n",
      " [0.]\n",
      " [0.]\n",
      " [1.]\n",
      " [0.]\n",
      " [1.]\n",
      " [0.]\n",
      " [0.]\n",
      " [1.]\n",
      " [0.]\n",
      " [0.]\n",
      " [1.]\n",
      " [1.]\n",
      " [0.]\n",
      " [0.]\n",
      " [1.]\n",
      " [0.]\n",
      " [0.]\n",
      " [1.]\n",
      " [0.]\n",
      " [1.]\n",
      " [0.]\n",
      " [1.]\n",
      " [1.]\n",
      " [0.]\n",
      " [0.]\n",
      " [1.]\n",
      " [0.]\n",
      " [0.]\n",
      " [1.]\n",
      " [1.]\n",
      " [1.]\n",
      " [0.]\n",
      " [1.]\n",
      " [0.]\n",
      " [0.]\n",
      " [1.]\n",
      " [1.]\n",
      " [1.]\n",
      " [0.]\n",
      " [0.]\n",
      " [0.]\n",
      " [0.]\n",
      " [1.]\n",
      " [0.]\n",
      " [0.]\n",
      " [1.]\n",
      " [0.]\n",
      " [1.]\n",
      " [1.]\n",
      " [1.]\n",
      " [1.]\n",
      " [0.]\n",
      " [0.]\n",
      " [0.]\n",
      " [1.]\n",
      " [0.]\n",
      " [0.]\n",
      " [1.]\n",
      " [1.]\n",
      " [0.]\n",
      " [0.]\n",
      " [0.]\n",
      " [0.]\n",
      " [0.]\n",
      " [1.]\n",
      " [0.]\n",
      " [1.]\n",
      " [1.]\n",
      " [0.]\n",
      " [0.]\n",
      " [1.]\n",
      " [0.]\n",
      " [1.]\n",
      " [1.]\n",
      " [1.]\n",
      " [0.]\n",
      " [0.]\n",
      " [1.]\n",
      " [0.]\n",
      " [1.]\n",
      " [0.]\n",
      " [0.]\n",
      " [0.]\n",
      " [1.]\n",
      " [1.]\n",
      " [1.]\n",
      " [0.]\n",
      " [0.]\n",
      " [1.]\n",
      " [1.]\n",
      " [1.]\n",
      " [1.]\n",
      " [1.]\n",
      " [1.]\n",
      " [1.]\n",
      " [1.]\n",
      " [1.]\n",
      " [0.]\n",
      " [0.]\n",
      " [0.]\n",
      " [1.]\n",
      " [0.]\n",
      " [1.]\n",
      " [0.]\n",
      " [1.]\n",
      " [0.]\n",
      " [1.]\n",
      " [1.]\n",
      " [0.]\n",
      " [1.]\n",
      " [1.]\n",
      " [1.]\n",
      " [1.]\n",
      " [1.]\n",
      " [1.]\n",
      " [1.]\n",
      " [0.]\n",
      " [0.]\n",
      " [0.]\n",
      " [1.]\n",
      " [0.]\n",
      " [0.]\n",
      " [0.]\n",
      " [0.]\n",
      " [1.]\n",
      " [0.]\n",
      " [0.]\n",
      " [0.]\n",
      " [0.]\n",
      " [0.]\n",
      " [1.]\n",
      " [0.]\n",
      " [1.]\n",
      " [1.]\n",
      " [0.]\n",
      " [0.]\n",
      " [1.]\n",
      " [0.]\n",
      " [1.]\n",
      " [1.]\n",
      " [0.]\n",
      " [1.]\n",
      " [0.]\n",
      " [0.]\n",
      " [1.]\n",
      " [0.]\n",
      " [0.]\n",
      " [1.]\n",
      " [1.]\n",
      " [0.]\n",
      " [0.]\n",
      " [0.]\n",
      " [1.]\n",
      " [1.]\n",
      " [1.]\n",
      " [0.]\n",
      " [0.]\n",
      " [1.]\n",
      " [0.]\n",
      " [0.]\n",
      " [1.]\n",
      " [1.]\n",
      " [1.]\n",
      " [1.]\n",
      " [1.]\n",
      " [0.]\n",
      " [1.]\n",
      " [0.]\n",
      " [0.]\n",
      " [0.]\n",
      " [1.]\n",
      " [0.]\n",
      " [0.]\n",
      " [1.]\n",
      " [0.]\n",
      " [0.]\n",
      " [0.]]\n"
     ]
    }
   ],
   "source": [
    "print(y_true[0:200])"
   ]
  },
  {
   "cell_type": "code",
   "execution_count": 17,
   "metadata": {},
   "outputs": [
    {
     "name": "stdout",
     "output_type": "stream",
     "text": [
      "[[0 0 1 0]\n",
      " [0 1 0 0]\n",
      " [0 0 1 0]\n",
      " [0 0 1 0]\n",
      " [0 0 1 0]\n",
      " [0 0 1 0]\n",
      " [0 1 0 0]\n",
      " [0 0 1 0]\n",
      " [1 0 0 0]\n",
      " [0 0 1 0]\n",
      " [0 1 0 0]\n",
      " [0 1 0 0]\n",
      " [0 0 0 1]\n",
      " [0 1 0 0]]\n"
     ]
    }
   ],
   "source": [
    "print(X_test[0])"
   ]
  },
  {
   "cell_type": "code",
   "execution_count": null,
   "metadata": {},
   "outputs": [],
   "source": []
  },
  {
   "cell_type": "code",
   "execution_count": null,
   "metadata": {},
   "outputs": [],
   "source": []
  },
  {
   "cell_type": "code",
   "execution_count": null,
   "metadata": {},
   "outputs": [],
   "source": []
  },
  {
   "cell_type": "code",
   "execution_count": null,
   "metadata": {},
   "outputs": [],
   "source": []
  },
  {
   "cell_type": "code",
   "execution_count": null,
   "metadata": {},
   "outputs": [],
   "source": []
  },
  {
   "cell_type": "code",
   "execution_count": null,
   "metadata": {},
   "outputs": [],
   "source": []
  },
  {
   "cell_type": "code",
   "execution_count": null,
   "metadata": {},
   "outputs": [],
   "source": []
  },
  {
   "cell_type": "code",
   "execution_count": null,
   "metadata": {},
   "outputs": [],
   "source": []
  }
 ],
 "metadata": {
  "kernelspec": {
   "display_name": "Python 3",
   "language": "python",
   "name": "python3"
  },
  "language_info": {
   "codemirror_mode": {
    "name": "ipython",
    "version": 3
   },
   "file_extension": ".py",
   "mimetype": "text/x-python",
   "name": "python",
   "nbconvert_exporter": "python",
   "pygments_lexer": "ipython3",
   "version": "3.5.2"
  }
 },
 "nbformat": 4,
 "nbformat_minor": 2
}
